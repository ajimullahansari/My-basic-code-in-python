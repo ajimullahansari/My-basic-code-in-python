{
 "cells": [
  {
   "cell_type": "code",
   "execution_count": 1,
   "id": "48b60a43",
   "metadata": {},
   "outputs": [
    {
     "data": {
      "text/plain": [
       "12"
      ]
     },
     "execution_count": 1,
     "metadata": {},
     "output_type": "execute_result"
    }
   ],
   "source": [
    "6+6"
   ]
  },
  {
   "cell_type": "code",
   "execution_count": 2,
   "id": "a87320c0",
   "metadata": {},
   "outputs": [
    {
     "data": {
      "text/plain": [
       "10077696"
      ]
     },
     "execution_count": 2,
     "metadata": {},
     "output_type": "execute_result"
    }
   ],
   "source": [
    "6**9"
   ]
  },
  {
   "cell_type": "code",
   "execution_count": null,
   "id": "70b6009a",
   "metadata": {},
   "outputs": [],
   "source": []
  }
 ],
 "metadata": {
  "kernelspec": {
   "display_name": "Python 3 (ipykernel)",
   "language": "python",
   "name": "python3"
  },
  "language_info": {
   "codemirror_mode": {
    "name": "ipython",
    "version": 3
   },
   "file_extension": ".py",
   "mimetype": "text/x-python",
   "name": "python",
   "nbconvert_exporter": "python",
   "pygments_lexer": "ipython3",
   "version": "3.11.5"
  }
 },
 "nbformat": 4,
 "nbformat_minor": 5
}
